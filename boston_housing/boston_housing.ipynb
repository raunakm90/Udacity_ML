{
 "cells": [
  {
   "cell_type": "markdown",
   "metadata": {},
   "source": [
    "# Machine Learning Engineer Nanodegree\n",
    "## Model Evaluation & Validation\n",
    "## Project: Predicting Boston Housing Prices\n",
    "\n",
    "Welcome to the first project of the Machine Learning Engineer Nanodegree! In this notebook, some template code has already been provided for you, and you will need to implement additional functionality to successfully complete this project. You will not need to modify the included code beyond what is requested. Sections that begin with **'Implementation'** in the header indicate that the following block of code will require additional functionality which you must provide. Instructions will be provided for each section and the specifics of the implementation are marked in the code block with a 'TODO' statement. Please be sure to read the instructions carefully!\n",
    "\n",
    "In addition to implementing code, there will be questions that you must answer which relate to the project and your implementation. Each section where you will answer a question is preceded by a **'Question X'** header. Carefully read each question and provide thorough answers in the following text boxes that begin with **'Answer:'**. Your project submission will be evaluated based on your answers to each of the questions and the implementation you provide.  \n",
    "\n",
    ">**Note:** Code and Markdown cells can be executed using the **Shift + Enter** keyboard shortcut. In addition, Markdown cells can be edited by typically double-clicking the cell to enter edit mode."
   ]
  },
  {
   "cell_type": "markdown",
   "metadata": {},
   "source": [
    "## Getting Started\n",
    "In this project, you will evaluate the performance and predictive power of a model that has been trained and tested on data collected from homes in suburbs of Boston, Massachusetts. A model trained on this data that is seen as a *good fit* could then be used to make certain predictions about a home — in particular, its monetary value. This model would prove to be invaluable for someone like a real estate agent who could make use of such information on a daily basis.\n",
    "\n",
    "The dataset for this project originates from the [UCI Machine Learning Repository](https://archive.ics.uci.edu/ml/datasets/Housing). The Boston housing data was collected in 1978 and each of the 506 entries represent aggregated data about 14 features for homes from various suburbs in Boston, Massachusetts. For the purposes of this project, the following preprocessing steps have been made to the dataset:\n",
    "- 16 data points have an `'MEDV'` value of 50.0. These data points likely contain **missing or censored values** and have been removed.\n",
    "- 1 data point has an `'RM'` value of 8.78. This data point can be considered an **outlier** and has been removed.\n",
    "- The features `'RM'`, `'LSTAT'`, `'PTRATIO'`, and `'MEDV'` are essential. The remaining **non-relevant features** have been excluded.\n",
    "- The feature `'MEDV'` has been **multiplicatively scaled** to account for 35 years of market inflation.\n",
    "\n",
    "Run the code cell below to load the Boston housing dataset, along with a few of the necessary Python libraries required for this project. You will know the dataset loaded successfully if the size of the dataset is reported."
   ]
  },
  {
   "cell_type": "code",
   "execution_count": 1,
   "metadata": {},
   "outputs": [
    {
     "name": "stdout",
     "output_type": "stream",
     "text": [
      "Boston housing dataset has 489 data points with 4 variables each.\n"
     ]
    }
   ],
   "source": [
    "# Import libraries necessary for this project\n",
    "import numpy as np\n",
    "import pandas as pd\n",
    "from sklearn.model_selection import ShuffleSplit\n",
    "\n",
    "# Import supplementary visualizations code visuals.py\n",
    "import visuals_raunak as vs\n",
    "\n",
    "# Pretty display for notebooks\n",
    "%matplotlib inline\n",
    "\n",
    "# Load the Boston housing dataset\n",
    "data = pd.read_csv('housing.csv')\n",
    "prices = data['MEDV']\n",
    "features = data.drop('MEDV', axis = 1)\n",
    "    \n",
    "# Success\n",
    "print (\"Boston housing dataset has {} data points with {} variables each.\".format(*data.shape))"
   ]
  },
  {
   "cell_type": "markdown",
   "metadata": {},
   "source": [
    "## Data Exploration\n",
    "In this first section of this project, you will make a cursory investigation about the Boston housing data and provide your observations. Familiarizing yourself with the data through an explorative process is a fundamental practice to help you better understand and justify your results.\n",
    "\n",
    "Since the main goal of this project is to construct a working model which has the capability of predicting the value of houses, we will need to separate the dataset into **features** and the **target variable**. The **features**, `'RM'`, `'LSTAT'`, and `'PTRATIO'`, give us quantitative information about each data point. The **target variable**, `'MEDV'`, will be the variable we seek to predict. These are stored in `features` and `prices`, respectively."
   ]
  },
  {
   "cell_type": "markdown",
   "metadata": {},
   "source": [
    "### Implementation: Calculate Statistics\n",
    "For your very first coding implementation, you will calculate descriptive statistics about the Boston housing prices. Since `numpy` has already been imported for you, use this library to perform the necessary calculations. These statistics will be extremely important later on to analyze various prediction results from the constructed model.\n",
    "\n",
    "In the code cell below, you will need to implement the following:\n",
    "- Calculate the minimum, maximum, mean, median, and standard deviation of `'MEDV'`, which is stored in `prices`.\n",
    "  - Store each calculation in their respective variable."
   ]
  },
  {
   "cell_type": "code",
   "execution_count": 2,
   "metadata": {},
   "outputs": [
    {
     "name": "stdout",
     "output_type": "stream",
     "text": [
      "Statistics for Boston housing dataset:\n",
      "\n",
      "Minimum price: $105,000.00\n",
      "Maximum price: $1,024,800.00\n",
      "Mean price: $454,342.94\n",
      "Median price $438,900.00\n",
      "Standard deviation of prices: $165,171.13\n"
     ]
    }
   ],
   "source": [
    "# TODO: Minimum price of the data\n",
    "minimum_price = np.min(prices)\n",
    "\n",
    "# TODO: Maximum price of the data\n",
    "maximum_price = np.max(prices)\n",
    "\n",
    "# TODO: Mean price of the data\n",
    "mean_price = np.mean(prices)\n",
    "\n",
    "# TODO: Median price of the data\n",
    "median_price = np.median(prices)\n",
    "\n",
    "# TODO: Standard deviation of prices of the data\n",
    "std_price = np.std(prices)\n",
    "\n",
    "# Show the calculated statistics\n",
    "print (\"Statistics for Boston housing dataset:\\n\")\n",
    "print (\"Minimum price: ${:,.2f}\".format(minimum_price))\n",
    "print (\"Maximum price: ${:,.2f}\".format(maximum_price))\n",
    "print (\"Mean price: ${:,.2f}\".format(mean_price))\n",
    "print (\"Median price ${:,.2f}\".format(median_price))\n",
    "print (\"Standard deviation of prices: ${:,.2f}\".format(std_price))"
   ]
  },
  {
   "cell_type": "markdown",
   "metadata": {},
   "source": [
    "### Question 1 - Feature Observation\n",
    "As a reminder, we are using three features from the Boston housing dataset: `'RM'`, `'LSTAT'`, and `'PTRATIO'`. For each data point (neighborhood):\n",
    "- `'RM'` is the average number of rooms among homes in the neighborhood.\n",
    "- `'LSTAT'` is the percentage of homeowners in the neighborhood considered \"lower class\" (working poor).\n",
    "- `'PTRATIO'` is the ratio of students to teachers in primary and secondary schools in the neighborhood.\n",
    "\n",
    "\n",
    "** Using your intuition, for each of the three features above, do you think that an increase in the value of that feature would lead to an **increase** in the value of `'MEDV'` or a **decrease** in the value of `'MEDV'`? Justify your answer for each.**\n",
    "\n",
    "**Hint:** This problem can phrased using examples like below.  \n",
    "* Would you expect a home that has an `'RM'` value(number of rooms) of 6 be worth more or less than a home that has an `'RM'` value of 7?\n",
    "* Would you expect a neighborhood that has an `'LSTAT'` value(percent of lower class workers) of 15 have home prices be worth more or less than a neighborhood that has an `'LSTAT'` value of 20?\n",
    "* Would you expect a neighborhood that has an `'PTRATIO'` value(ratio of students to teachers) of 10 have home prices be worth more or less than a neighborhood that has an `'PTRATIO'` value of 15?"
   ]
  },
  {
   "cell_type": "code",
   "execution_count": 3,
   "metadata": {},
   "outputs": [
    {
     "data": {
      "text/plain": [
       "<matplotlib.text.Text at 0x27bbec902e8>"
      ]
     },
     "execution_count": 3,
     "metadata": {},
     "output_type": "execute_result"
    },
    {
     "data": {
      "image/png": "[encoded data removed]",
      "text/plain": [
       "<matplotlib.figure.Figure at 0x27bbe918cc0>"
      ]
     },
     "metadata": {},
     "output_type": "display_data"
    }
   ],
   "source": [
    "import matplotlib.pyplot as plt\n",
    "%matplotlib inline\n",
    "\n",
    "fig, ax_arr = plt.subplots(1, 3, figsize=(25,8))\n",
    "plt.suptitle(\"Scatter plot for features v/s prices\", fontsize=20)\n",
    "ax_arr[0].scatter(prices, features.iloc[:,0])\n",
    "corr_coef = np.corrcoef(prices, features.iloc[:,0])[0,1]\n",
    "ax_arr[0].set_title(features.columns[0] + \"\\nCorrelation Coefficient = {:2f}\".format(corr_coef), fontsize=15)\n",
    "\n",
    "ax_arr[1].scatter(prices, features.iloc[:, 1])\n",
    "corr_coef = np.corrcoef(prices, features.iloc[:,1])[0,1]\n",
    "ax_arr[1].set_title(features.columns[1] + \"\\nCorrelation Coefficient = {:2f}\".format(corr_coef), fontsize=15)\n",
    "\n",
    "ax_arr[2].scatter(prices, features.iloc[:, 2])\n",
    "corr_coef = np.corrcoef(prices, features.iloc[:,2])[0,1]\n",
    "ax_arr[2].set_title(features.columns[2] + \"\\nCorrelation Coefficient = {:2f}\".format(corr_coef), fontsize=15)"
   ]
  },
  {
   "cell_type": "markdown",
   "metadata": {},
   "source": [
    "**Answer: **\n",
    "From the above scatter plots, we can see that - \n",
    "1. There's a positive relationship between 'RM' and 'MEDV', indicating higher the number of rooms, higher is the value of the house. A positive linear correlation of 0.69 also supports this statement. As expected, houses with more rooms (implying more space, in general) will cost more.\n",
    "2. There's a negative relationship between 'LSTAT' and 'MEDV', indicating higher the percentage value of lower class workers in the neighborhood, lower is the value of the house. A negative linear correlation of -0.76 also supports this statement. Intuitively, lower class workers would essentially bring down the value of the houses in the neighborhood and thus, supporting a negative linear correlation between these two values.\n",
    "3. From the scatter plot, ratio of students to teachers in the neighborhood schools does not have any linear relationship with the value of the house. A linear correlation coefficient of -0.52 tells us there isn't a strong linear relationship between ratio of student to teachers in the neighborhood schools and value of the houses in those neighborhoods. This plot gives us information and intuition about how the house prices are affected because of student to teacher ratio in the nieghborhood schools."
   ]
  },
  {
   "cell_type": "markdown",
   "metadata": {},
   "source": [
    "----\n",
    "\n",
    "## Developing a Model\n",
    "In this second section of the project, you will develop the tools and techniques necessary for a model to make a prediction. Being able to make accurate evaluations of each model's performance through the use of these tools and techniques helps to greatly reinforce the confidence in your predictions."
   ]
  },
  {
   "cell_type": "markdown",
   "metadata": {},
   "source": [
    "### Implementation: Define a Performance Metric\n",
    "It is difficult to measure the quality of a given model without quantifying its performance over training and testing. This is typically done using some type of performance metric, whether it is through calculating some type of error, the goodness of fit, or some other useful measurement. For this project, you will be calculating the [*coefficient of determination*](http://stattrek.com/statistics/dictionary.aspx?definition=coefficient_of_determination), R<sup>2</sup>, to quantify your model's performance. The coefficient of determination for a model is a useful statistic in regression analysis, as it often describes how \"good\" that model is at making predictions. \n",
    "\n",
    "The values for R<sup>2</sup> range from 0 to 1, which captures the percentage of squared correlation between the predicted and actual values of the **target variable**. A model with an R<sup>2</sup> of 0 is no better than a model that always predicts the *mean* of the target variable, whereas a model with an R<sup>2</sup> of 1 perfectly predicts the target variable. Any value between 0 and 1 indicates what percentage of the target variable, using this model, can be explained by the **features**. _A model can be given a negative R<sup>2</sup> as well, which indicates that the model is **arbitrarily worse** than one that always predicts the mean of the target variable._\n",
    "\n",
    "For the `performance_metric` function in the code cell below, you will need to implement the following:\n",
    "- Use `r2_score` from `sklearn.metrics` to perform a performance calculation between `y_true` and `y_predict`.\n",
    "- Assign the performance score to the `score` variable."
   ]
  },
  {
   "cell_type": "code",
   "execution_count": 4,
   "metadata": {
    "collapsed": true
   },
   "outputs": [],
   "source": [
    "# TODO: Import 'r2_score'\n",
    "from sklearn.metrics import r2_score\n",
    "\n",
    "def performance_metric(y_true, y_predict):\n",
    "    \"\"\" Calculates and returns the performance score between \n",
    "        true and predicted values based on the metric chosen. \"\"\"\n",
    "    \n",
    "    # TODO: Calculate the performance score between 'y_true' and 'y_predict'\n",
    "    score = r2_score(y_true=y_true, y_pred=y_predict)\n",
    "    \n",
    "    # Return the score\n",
    "    return score"
   ]
  },
  {
   "cell_type": "markdown",
   "metadata": {},
   "source": [
    "** Formula for R^2 Score **\n",
    "\n",
    "Total sum of squares:\n",
    "$\n",
    "SS_{total} = \\sum{(y_i - \\bar{y})^2}\n",
    "$\n",
    "\n",
    "Residual sum of squares:\n",
    "$\n",
    "SS_{res} = \\sum{(y_i - \\hat{y})^2}\n",
    "$\n",
    "\n",
    "$R^2$ Coefficient of determination:\n",
    "$\n",
    "R^2 = 1 - \\frac{SS_{total}}{SS_{res}}\n",
    "$"
   ]
  },
  {
   "cell_type": "markdown",
   "metadata": {},
   "source": [
    "### Question 2 - Goodness of Fit\n",
    "Assume that a dataset contains five data points and a model made the following predictions for the target variable:\n",
    "\n",
    "| True Value | Prediction |\n",
    "| :-------------: | :--------: |\n",
    "| 3.0 | 2.5 |\n",
    "| -0.5 | 0.0 |\n",
    "| 2.0 | 2.1 |\n",
    "| 7.0 | 7.8 |\n",
    "| 4.2 | 5.3 |\n",
    "\n",
    "Run the code cell below to use the `performance_metric` function and calculate this model's coefficient of determination."
   ]
  },
  {
   "cell_type": "code",
   "execution_count": 5,
   "metadata": {},
   "outputs": [
    {
     "name": "stdout",
     "output_type": "stream",
     "text": [
      "Model has a coefficient of determination, R^2, of 0.923.\n"
     ]
    }
   ],
   "source": [
    "# Calculate the performance of this model\n",
    "score = performance_metric([3, -0.5, 2, 7, 4.2], [2.5, 0.0, 2.1, 7.8, 5.3])\n",
    "print (\"Model has a coefficient of determination, R^2, of {:.3f}.\".format(score))"
   ]
  },
  {
   "cell_type": "markdown",
   "metadata": {},
   "source": [
    "* Would you consider this model to have successfully captured the variation of the target variable? \n",
    "* Why or why not?\n",
    "\n",
    "** Hint: **  The R2 score is the proportion of the variance in the dependent variable that is predictable from the independent variable. In other words:\n",
    "* R2 score of 0 means that the dependent variable cannot be predicted from the independent variable.\n",
    "* R2 score of 1 means the dependent variable can be predicted from the independent variable.\n",
    "* R2 score between 0 and 1 indicates the extent to which the dependent variable is predictable.\n",
    "* R2 score of 0.40 means that 40 percent of the variance in Y is predictable from X."
   ]
  },
  {
   "cell_type": "markdown",
   "metadata": {},
   "source": [
    "**Answer:** \n",
    "\n",
    "The model has captured 92.3% of the variance in the dependent variable that is explained by the independent variable. Yes, this model has successfully captured most of the variation of the target variable because of a high R^2 value."
   ]
  },
  {
   "cell_type": "markdown",
   "metadata": {},
   "source": [
    "### Implementation: Shuffle and Split Data\n",
    "Your next implementation requires that you take the Boston housing dataset and split the data into training and testing subsets. Typically, the data is also shuffled into a random order when creating the training and testing subsets to remove any bias in the ordering of the dataset.\n",
    "\n",
    "For the code cell below, you will need to implement the following:\n",
    "- Use `train_test_split` from `sklearn.cross_validation` to shuffle and split the `features` and `prices` data into training and testing sets.\n",
    "  - Split the data into 80% training and 20% testing.\n",
    "  - Set the `random_state` for `train_test_split` to a value of your choice. This ensures results are consistent.\n",
    "- Assign the train and testing splits to `X_train`, `X_test`, `y_train`, and `y_test`."
   ]
  },
  {
   "cell_type": "code",
   "execution_count": 6,
   "metadata": {},
   "outputs": [
    {
     "name": "stdout",
     "output_type": "stream",
     "text": [
      "Training and testing split was successful.\n"
     ]
    }
   ],
   "source": [
    "# TODO: Import 'train_test_split'\n",
    "from sklearn.model_selection import train_test_split\n",
    "\n",
    "# TODO: Shuffle and split the data into training and testing subsets\n",
    "X_train, X_test, y_train, y_test = train_test_split(features, prices, test_size=0.2, random_state=246)\n",
    "\n",
    "# Success\n",
    "print (\"Training and testing split was successful.\")"
   ]
  },
  {
   "cell_type": "markdown",
   "metadata": {},
   "source": [
    "### Question 3 - Training and Testing\n",
    "\n",
    "* What is the benefit to splitting a dataset into some ratio of training and testing subsets for a learning algorithm?\n",
    "\n",
    "**Hint:** Think about how overfitting or underfitting is contingent upon how splits on data is done."
   ]
  },
  {
   "cell_type": "markdown",
   "metadata": {},
   "source": [
    "**Answer: **\n",
    "\n",
    "Benefits of splitting a dataset into some ratio of training and testing subsets for a learning algorithm, specifically a supervised learning algorithm - \n",
    "1. Model estimates the parameters using only the training dataset and these parameters are evaluated using testing dataset, simulating real-world scenarios where we might want to predict the outcome variable based on some input data.\n",
    "2. This avoids overfitting as well as underfitting our model parameters to the dataset that is available. Evaluating model on testing dataset gives us more confidence that the model will perform similarly on unseen/new data.\n",
    "3. The training split should represent an appropriate sample of the population. If the splits are biased, then our model may overfit or underfit. Hence, splitting the data is not enough to avoid these issues. "
   ]
  },
  {
   "cell_type": "markdown",
   "metadata": {},
   "source": [
    "----\n",
    "\n",
    "## Analyzing Model Performance\n",
    "In this third section of the project, you'll take a look at several models' learning and testing performances on various subsets of training data. Additionally, you'll investigate one particular algorithm with an increasing `'max_depth'` parameter on the full training set to observe how model complexity affects performance. Graphing your model's performance based on varying criteria can be beneficial in the analysis process, such as visualizing behavior that may not have been apparent from the results alone."
   ]
  },
  {
   "cell_type": "markdown",
   "metadata": {},
   "source": [
    "### Learning Curves\n",
    "The following code cell produces four graphs for a decision tree model with different maximum depths. Each graph visualizes the learning curves of the model for both training and testing as the size of the training set is increased. Note that the shaded region of a learning curve denotes the uncertainty of that curve (measured as the standard deviation). The model is scored on both the training and testing sets using R<sup>2</sup>, the coefficient of determination.  \n",
    "\n",
    "Run the code cell below and use these graphs to answer the following question."
   ]
  },
  {
   "cell_type": "code",
   "execution_count": 7,
   "metadata": {
    "scrolled": false
   },
   "outputs": [
    {
     "data": {
      "image/png": "[encoded data removed]",
      "text/plain": [
       "<matplotlib.figure.Figure at 0x27bbea03f28>"
      ]
     },
     "metadata": {},
     "output_type": "display_data"
    }
   ],
   "source": [
    "# Produce learning curves for varying training set sizes and maximum depths\n",
    "vs.ModelLearning(features, prices)"
   ]
  },
  {
   "cell_type": "markdown",
   "metadata": {},
   "source": [
    "### Question 4 - Learning the Data\n",
    "* Choose one of the graphs above and state the maximum depth for the model. \n",
    "* What happens to the score of the training curve as more training points are added? What about the testing curve? \n",
    "* Would having more training points benefit the model? \n",
    "\n",
    "**Hint:** Are the learning curves converging to particular scores? Generally speaking, the more data you have, the better. But if your training and testing curves are converging with a score above your benchmark threshold, would this be necessary?\n",
    "Think about the pros and cons of adding more training points based on if the training and testing curves are converging."
   ]
  },
  {
   "cell_type": "markdown",
   "metadata": {},
   "source": [
    "**Answer: **\n",
    "1. Maximum depth = 3, since for this particular model we see the training and testing scores converge at a high r^2 value of approximately 0.8\n",
    "2. As we add more training points, the training and testing scores converge to approximately 0.8 as the r^2 score.\n",
    "3. Since the scoring the for the training and testing converge at approximately 300 training points and starts to saturate, adding more training points would not benefit the model. \n",
    "\n",
    "For the learning curve with maximum depth = 3, we can see that as we add more data, training score decreases whereas the testing score improves and eventually they converge at approximately 300 data points. Smaller number of training points implies less variance in the data and hence a good score for the training data set and a not so good score for the testing data set. As the model 'looks at' more data points and learns different patterns, the testing score improves because now the model is able to generalize well. "
   ]
  },
  {
   "cell_type": "markdown",
   "metadata": {},
   "source": [
    "### Complexity Curves\n",
    "The following code cell produces a graph for a decision tree model that has been trained and validated on the training data using different maximum depths. The graph produces two complexity curves — one for training and one for validation. Similar to the **learning curves**, the shaded regions of both the complexity curves denote the uncertainty in those curves, and the model is scored on both the training and validation sets using the `performance_metric` function.  \n",
    "\n",
    "** Run the code cell below and use this graph to answer the following two questions Q5 and Q6. **"
   ]
  },
  {
   "cell_type": "code",
   "execution_count": 8,
   "metadata": {},
   "outputs": [
    {
     "data": {
      "image/png": "[encoded data removed]",
      "text/plain": [
       "<matplotlib.figure.Figure at 0x27bbed3ec18>"
      ]
     },
     "metadata": {},
     "output_type": "display_data"
    }
   ],
   "source": [
    "vs.ModelComplexity(X_train, y_train)"
   ]
  },
  {
   "cell_type": "markdown",
   "metadata": {},
   "source": [
    "### Question 5 - Bias-Variance Tradeoff\n",
    "* When the model is trained with a maximum depth of 1, does the model suffer from high bias or from high variance? \n",
    "* How about when the model is trained with a maximum depth of 10? What visual cues in the graph justify your conclusions?\n",
    "\n",
    "**Hint:** High bias is a sign of underfitting(model is not complex enough to pick up the nuances in the data) and high variance is a sign of overfitting(model is by-hearting the data and cannot generalize well). Think about which model(depth 1 or 10) aligns with which part of the tradeoff."
   ]
  },
  {
   "cell_type": "markdown",
   "metadata": {},
   "source": [
    "**Answer: **\n",
    "1. The model suffers from high bias when trained with a maximum depth of 1, since the training and validation scores are low.\n",
    "2. The model suffers from high variance when trained with a maximum depth of 10 as the validation score in fact decreases whereas the training score is close to a perfect r^2 score of 1.0. Thus, the model with maximum depth of 10 fails to generalize over the cross-validation set."
   ]
  },
  {
   "cell_type": "markdown",
   "metadata": {},
   "source": [
    "### Question 6 - Best-Guess Optimal Model\n",
    "* Which maximum depth do you think results in a model that best generalizes to unseen data? \n",
    "* What intuition lead you to this answer?\n",
    "\n",
    "** Hint: ** Look at the graph above Question 5 and see where the validation scores lie for the various depths that have been assigned to the model. Does it get better with increased depth? At what point do we get our best validation score without overcomplicating our model? And remember, Occams Razor states \"Among competing hypotheses, the one with the fewest assumptions should be selected.\""
   ]
  },
  {
   "cell_type": "markdown",
   "metadata": {},
   "source": [
    "**Answer: **\n",
    "\n",
    "1. Model with maximum depth of 4 is the best one that generalizes to unseen data.\n",
    "2. From the model complexity graph, we can see that the validation score starts to drop as the maximum depth (complexity of the model) increase beyond 4, whereas the training score continues to improve and achieve almost a perfect r^2 score of 1.0. This clearly suggests that the model starts to overfit as we increase the maximum depth beyond 4 and it is unable to generalize to validation set. With maximum depth of 4, we achieve the highest score on the validation set, suggesting it is the appropriate model complexity for the given data."
   ]
  },
  {
   "cell_type": "markdown",
   "metadata": {},
   "source": [
    "-----\n",
    "\n",
    "## Evaluating Model Performance\n",
    "In this final section of the project, you will construct a model and make a prediction on the client's feature set using an optimized model from `fit_model`."
   ]
  },
  {
   "cell_type": "markdown",
   "metadata": {},
   "source": [
    "### Question 7 - Grid Search\n",
    "* What is the grid search technique?\n",
    "* How it can be applied to optimize a learning algorithm?\n",
    "\n",
    "** Hint: ** When explaining the Grid Search technique, be sure to touch upon why it is used,  what the 'grid' entails and what the end goal of this method is. To solidify your answer, you can also give an example of a parameter in a model that can be optimized using this approach."
   ]
  },
  {
   "cell_type": "markdown",
   "metadata": {},
   "source": [
    "**Answer: **\n",
    "\n",
    "Grid search technique - \n",
    "1. Define hyper-parameters of a model. Numeric hyper-parameters should be discrete.\n",
    "2. Train the model over all possible combinations of the hyper-parameters. If we have 2 hyper-parameters with 2 possible values each, we will have 2x2=4 possible combinations (i.e. the 'grid' of hyper-parameters) and correspondingly, 4 different models.\n",
    "3. Evaluate each of these models using the cross-validation set. Evaluate each of these model using the same and appropriate metric.\n",
    "4. Select the best-performing model based on our evaluation metric.\n",
    "5. Using the hyper-parameters of our best-performing model, evaluate the model on our test data set to make sure we are on the right track.\n",
    "\n",
    "\n",
    "Grid search technique can be used to select optimal hyper-parameters from all possible combinations of different values (as provided by the developer) for a given learning algorithm. For example, if we are building a random forest for classification, we may have `maximum_depth` (maximum depth of trees in the forest) and `number_of_trees` (number of trees in the forest) as the hyper-parameters for the model. Suppose we define the following values for each - \n",
    "* maximum_depth = [2,5]\n",
    "* number_of_features = [square_root(total_features), log(total_features)]\n",
    "\n",
    "Grid search technique will train a random forest for each of the combination of the above values. We can then select the best model based on our evaluation metric, thus optimizing our learning algorithm and better than random values for these hyper-parameters. "
   ]
  },
  {
   "cell_type": "markdown",
   "metadata": {},
   "source": [
    "### Question 8 - Cross-Validation\n",
    "\n",
    "* What is the k-fold cross-validation training technique? \n",
    "\n",
    "* What benefit does this technique provide for grid search when optimizing a model?\n",
    "\n",
    "**Hint:** When explaining the k-fold cross validation technique, be sure to touch upon what 'k' is, how the dataset is split into different parts for training and testing and the number of times it is run based on the 'k' value.\n",
    "\n",
    "When thinking about how k-fold cross validation helps grid search, think about the main drawbacks of grid search which are hinged upon **using a particular subset of data for training or testing** and how k-fold cv could help alleviate that. You can refer to the [docs](http://scikit-learn.org/stable/modules/cross_validation.html#cross-validation) for your answer."
   ]
  },
  {
   "cell_type": "markdown",
   "metadata": {},
   "source": [
    "**Answer: **\n",
    "\n",
    "k-fold cross-validation training technique is one of the most widely used cross-validation technique used. When training, we divide the training data set into *k* groups of data. Our algorithm is trained using *k-1* groups of data and validated on the $k^{th}$ group, until all the groups of data are used as validation. For each validation group, we re-train the model. The final metric that is reported is usually averaged across all the groups. k-fold cross-validation can be best explained by the following figure - \n",
    "<img src=\"k-fold.png\" alt=\"Drawing\" style=\"width: 500px;\"/>\n",
    "\n",
    "k-fold cross-validation alleviates the problem of testing hyper-parameters only on a particular subset of data. When grid searching, particular set of hyper-parameters may work well only with a particular subset, thus giving us a false impression that the model works well. However, if we use k-fold cross-validation with grid searching, hyper-parameters are tested for different subsets of data in the training and the validation set. This technique gives us hyper-parameters that are robust to changes in the training set and thus avoid overfitting."
   ]
  },
  {
   "cell_type": "markdown",
   "metadata": {},
   "source": [
    "### Implementation: Fitting a Model\n",
    "Your final implementation requires that you bring everything together and train a model using the **decision tree algorithm**. To ensure that you are producing an optimized model, you will train the model using the grid search technique to optimize the `'max_depth'` parameter for the decision tree. The `'max_depth'` parameter can be thought of as how many questions the decision tree algorithm is allowed to ask about the data before making a prediction. Decision trees are part of a class of algorithms called *supervised learning algorithms*.\n",
    "\n",
    "In addition, you will find your implementation is using `ShuffleSplit()` for an alternative form of cross-validation (see the `'cv_sets'` variable). While it is not the K-Fold cross-validation technique you describe in **Question 8**, this type of cross-validation technique is just as useful!. The `ShuffleSplit()` implementation below will create 10 (`'n_splits'`) shuffled sets, and for each shuffle, 20% (`'test_size'`) of the data will be used as the *validation set*. While you're working on your implementation, think about the contrasts and similarities it has to the K-fold cross-validation technique.\n",
    "\n",
    "Please note that ShuffleSplit has different parameters in scikit-learn versions 0.17 and 0.18.\n",
    "For the `fit_model` function in the code cell below, you will need to implement the following:\n",
    "- Use [`DecisionTreeRegressor`](http://scikit-learn.org/stable/modules/generated/sklearn.tree.DecisionTreeRegressor.html) from `sklearn.tree` to create a decision tree regressor object.\n",
    "  - Assign this object to the `'regressor'` variable.\n",
    "- Create a dictionary for `'max_depth'` with the values from 1 to 10, and assign this to the `'params'` variable.\n",
    "- Use [`make_scorer`](http://scikit-learn.org/stable/modules/generated/sklearn.metrics.make_scorer.html) from `sklearn.metrics` to create a scoring function object.\n",
    "  - Pass the `performance_metric` function as a parameter to the object.\n",
    "  - Assign this scoring function to the `'scoring_fnc'` variable.\n",
    "- Use [`GridSearchCV`](http://scikit-learn.org/0.17/modules/generated/sklearn.grid_search.GridSearchCV.html) from `sklearn.grid_search` to create a grid search object.\n",
    "  - Pass the variables `'regressor'`, `'params'`, `'scoring_fnc'`, and `'cv_sets'` as parameters to the object. \n",
    "  - Assign the `GridSearchCV` object to the `'grid'` variable."
   ]
  },
  {
   "cell_type": "code",
   "execution_count": 9,
   "metadata": {
    "collapsed": true
   },
   "outputs": [],
   "source": [
    "# TODO: Import 'make_scorer', 'DecisionTreeRegressor', and 'GridSearchCV'\n",
    "from sklearn.model_selection import GridSearchCV\n",
    "from sklearn.metrics import make_scorer\n",
    "from sklearn.tree import DecisionTreeRegressor\n",
    "\n",
    "def fit_model(X, y):\n",
    "    \"\"\" Performs grid search over the 'max_depth' parameter for a \n",
    "        decision tree regressor trained on the input data [X, y]. \"\"\"\n",
    "    \n",
    "    # Create cross-validation sets from the training data\n",
    "    # sklearn version 0.18: ShuffleSplit(n_splits=10, test_size=0.1, train_size=None, random_state=None)\n",
    "    # sklearn versiin 0.17: ShuffleSplit(n, n_iter=10, test_size=0.1, train_size=None, random_state=None)\n",
    "    cv_sets = ShuffleSplit(n_splits=10, test_size=0.2, train_size=None, random_state=0)\n",
    "\n",
    "    # TODO: Create a decision tree regressor object\n",
    "    regressor = DecisionTreeRegressor()\n",
    "\n",
    "    # TODO: Create a dictionary for the parameter 'max_depth' with a range from 1 to 10\n",
    "    params = {'max_depth':range(1,11)}\n",
    "\n",
    "    # TODO: Transform 'performance_metric' into a scoring function using 'make_scorer' \n",
    "    scoring_fnc = make_scorer(performance_metric)\n",
    "\n",
    "    # TODO: Create the grid search cv object --> GridSearchCV()\n",
    "    # Make sure to include the right parameters in the object:\n",
    "    # (estimator, param_grid, scoring, cv) which have values 'regressor', 'params', 'scoring_fnc', and 'cv_sets' respectively.\n",
    "    grid = GridSearchCV(estimator=regressor, param_grid=params, scoring=scoring_fnc, cv=cv_sets)\n",
    "\n",
    "    # Fit the grid search object to the data to compute the optimal model\n",
    "    grid = grid.fit(X, y)\n",
    "\n",
    "    # Return the optimal model after fitting the data\n",
    "    return grid.best_estimator_"
   ]
  },
  {
   "cell_type": "markdown",
   "metadata": {},
   "source": [
    "### Making Predictions\n",
    "Once a model has been trained on a given set of data, it can now be used to make predictions on new sets of input data. In the case of a *decision tree regressor*, the model has learned *what the best questions to ask about the input data are*, and can respond with a prediction for the **target variable**. You can use these predictions to gain information about data where the value of the target variable is unknown — such as data the model was not trained on."
   ]
  },
  {
   "cell_type": "markdown",
   "metadata": {},
   "source": [
    "### Question 9 - Optimal Model\n",
    "\n",
    "* What maximum depth does the optimal model have? How does this result compare to your guess in **Question 6**?  \n",
    "\n",
    "Run the code block below to fit the decision tree regressor to the training data and produce an optimal model."
   ]
  },
  {
   "cell_type": "code",
   "execution_count": 10,
   "metadata": {
    "scrolled": true
   },
   "outputs": [
    {
     "name": "stdout",
     "output_type": "stream",
     "text": [
      "Parameter 'max_depth' is 4 for the optimal model.\n"
     ]
    }
   ],
   "source": [
    "# Fit the training data to the model using grid search\n",
    "reg = fit_model(X_train, y_train)\n",
    "\n",
    "# Produce the value for 'max_depth'\n",
    "print (\"Parameter 'max_depth' is {} for the optimal model.\".format(reg.get_params()['max_depth']))"
   ]
  },
  {
   "cell_type": "markdown",
   "metadata": {},
   "source": [
    "** Hint: ** The answer comes from the output of the code snipped above.\n",
    "\n",
    "**Answer: **\n",
    "\n",
    "The optimal model has a maximum depth of 4, which is exactly what we guessed previously using the model complexity curve!"
   ]
  },
  {
   "cell_type": "markdown",
   "metadata": {},
   "source": [
    "### Feature Importance\n",
    "\n",
    "Which features are important in predicting the house prices? The importance of a feature is computed as the (normalized) total reduction of the criterion brought by that feature. It is also known as the **Gini importance**. \n",
    "\n",
    "**Gini importance** - Every time a split of a node is made on variable m the gini impurity criterion for the two descendent nodes is less than the parent node. Adding up the gini decreases for each individual variable over all trees in the forest gives a fast variable importance that is often very consistent with the permutation importance measure.\n",
    "\n",
    "Reference - \n",
    "- https://www.stat.berkeley.edu/~breiman/RandomForests/cc_home.htm#giniimp\n",
    "- http://scikit-learn.org/stable/auto_examples/ensemble/plot_forest_importances.html"
   ]
  },
  {
   "cell_type": "code",
   "execution_count": 11,
   "metadata": {},
   "outputs": [
    {
     "data": {
      "text/plain": [
       "<matplotlib.axes._subplots.AxesSubplot at 0x27bbec48400>"
      ]
     },
     "execution_count": 11,
     "metadata": {},
     "output_type": "execute_result"
    },
    {
     "data": {
      "image/png": "[encoded data removed]",
      "text/plain": [
       "<matplotlib.figure.Figure at 0x27bbf539d68>"
      ]
     },
     "metadata": {},
     "output_type": "display_data"
    }
   ],
   "source": [
    "feature_importance = pd.DataFrame(reg.feature_importances_, index=X_train.columns, columns=['Gini Importance'])\n",
    "feature_importance.plot(kind='bar')"
   ]
  },
  {
   "cell_type": "markdown",
   "metadata": {},
   "source": [
    "### Visualizing the Tree"
   ]
  },
  {
   "cell_type": "code",
   "execution_count": 12,
   "metadata": {},
   "outputs": [
    {
     "data": {
      "image/svg+xml": [
       "<?xml version=\"1.0\" encoding=\"UTF-8\" standalone=\"no\"?>\r\n",
       "<!DOCTYPE svg PUBLIC \"-//W3C//DTD SVG 1.1//EN\"\r\n",
       " \"http://www.w3.org/Graphics/SVG/1.1/DTD/svg11.dtd\">\r\n",
       "<!-- Generated by graphviz version 2.38.0 (20140413.2041)\r\n",
       " -->\r\n",
       "<!-- Title: Tree Pages: 1 -->\r\n",
       "<svg width=\"2432pt\" height=\"477pt\"\r\n",
       " viewBox=\"0.00 0.00 2432.00 477.00\" xmlns=\"http://www.w3.org/2000/svg\" xmlns:xlink=\"http://www.w3.org/1999/xlink\">\r\n",
       "<g id=\"graph0\" class=\"graph\" transform=\"scale(1 1) rotate(0) translate(4 473)\">\r\n",
       "<title>Tree</title>\r\n",
       "<polygon fill=\"white\" stroke=\"none\" points=\"-4,4 -4,-473 2428,-473 2428,4 -4,4\"/>\r\n",
       "<!-- 0 -->\r\n",
       "<g id=\"node1\" class=\"node\"><title>0</title>\r\n",
       "<polygon fill=\"#e58139\" fill-opacity=\"0.298039\" stroke=\"black\" points=\"1308,-469 1168,-469 1168,-401 1308,-401 1308,-469\"/>\r\n",
       "<text text-anchor=\"start\" x=\"1204\" y=\"-453.8\" font-family=\"Times New Roman,serif\" font-size=\"14.00\">RM ≤ 6.841</text>\r\n",
       "<text text-anchor=\"start\" x=\"1176\" y=\"-438.8\" font-family=\"Times New Roman,serif\" font-size=\"14.00\">mse = 25764461876.5</text>\r\n",
       "<text text-anchor=\"start\" x=\"1197\" y=\"-423.8\" font-family=\"Times New Roman,serif\" font-size=\"14.00\">samples = 391</text>\r\n",
       "<text text-anchor=\"start\" x=\"1186.5\" y=\"-408.8\" font-family=\"Times New Roman,serif\" font-size=\"14.00\">value = 456081.33</text>\r\n",
       "</g>\r\n",
       "<!-- 1 -->\r\n",
       "<g id=\"node2\" class=\"node\"><title>1</title>\r\n",
       "<polygon fill=\"#e58139\" fill-opacity=\"0.239216\" stroke=\"black\" points=\"997,-365 857,-365 857,-297 997,-297 997,-365\"/>\r\n",
       "<text text-anchor=\"start\" x=\"885\" y=\"-349.8\" font-family=\"Times New Roman,serif\" font-size=\"14.00\">LSTAT ≤ 15.0</text>\r\n",
       "<text text-anchor=\"start\" x=\"865\" y=\"-334.8\" font-family=\"Times New Roman,serif\" font-size=\"14.00\">mse = 12298342849.5</text>\r\n",
       "<text text-anchor=\"start\" x=\"886\" y=\"-319.8\" font-family=\"Times New Roman,serif\" font-size=\"14.00\">samples = 332</text>\r\n",
       "<text text-anchor=\"start\" x=\"872.5\" y=\"-304.8\" font-family=\"Times New Roman,serif\" font-size=\"14.00\">value = 411422.892</text>\r\n",
       "</g>\r\n",
       "<!-- 0&#45;&gt;1 -->\r\n",
       "<g id=\"edge1\" class=\"edge\"><title>0&#45;&gt;1</title>\r\n",
       "<path fill=\"none\" stroke=\"black\" d=\"M1167.82,-410.982C1120.03,-395.31 1056.68,-374.533 1006.95,-358.222\"/>\r\n",
       "<polygon fill=\"black\" stroke=\"black\" points=\"1007.79,-354.813 997.196,-355.022 1005.61,-361.465 1007.79,-354.813\"/>\r\n",
       "<text text-anchor=\"middle\" x=\"1008.48\" y=\"-373.629\" font-family=\"Times New Roman,serif\" font-size=\"14.00\">True</text>\r\n",
       "</g>\r\n",
       "<!-- 16 -->\r\n",
       "<g id=\"node17\" class=\"node\"><title>16</title>\r\n",
       "<polygon fill=\"#e58139\" fill-opacity=\"0.635294\" stroke=\"black\" points=\"1621,-365 1481,-365 1481,-297 1621,-297 1621,-365\"/>\r\n",
       "<text text-anchor=\"start\" x=\"1517\" y=\"-349.8\" font-family=\"Times New Roman,serif\" font-size=\"14.00\">RM ≤ 7.433</text>\r\n",
       "<text text-anchor=\"start\" x=\"1489\" y=\"-334.8\" font-family=\"Times New Roman,serif\" font-size=\"14.00\">mse = 27166469077.9</text>\r\n",
       "<text text-anchor=\"start\" x=\"1513.5\" y=\"-319.8\" font-family=\"Times New Roman,serif\" font-size=\"14.00\">samples = 59</text>\r\n",
       "<text text-anchor=\"start\" x=\"1496.5\" y=\"-304.8\" font-family=\"Times New Roman,serif\" font-size=\"14.00\">value = 707379.661</text>\r\n",
       "</g>\r\n",
       "<!-- 0&#45;&gt;16 -->\r\n",
       "<g id=\"edge16\" class=\"edge\"><title>0&#45;&gt;16</title>\r\n",
       "<path fill=\"none\" stroke=\"black\" d=\"M1308.24,-411.109C1356.67,-395.328 1421.12,-374.324 1471.45,-357.925\"/>\r\n",
       "<polygon fill=\"black\" stroke=\"black\" points=\"1472.57,-361.241 1480.99,-354.814 1470.4,-354.585 1472.57,-361.241\"/>\r\n",
       "<text text-anchor=\"middle\" x=\"1469.66\" y=\"-373.399\" font-family=\"Times New Roman,serif\" font-size=\"14.00\">False</text>\r\n",
       "</g>\r\n",
       "<!-- 2 -->\r\n",
       "<g id=\"node3\" class=\"node\"><title>2</title>\r\n",
       "<polygon fill=\"#e58139\" fill-opacity=\"0.317647\" stroke=\"black\" points=\"528.5,-261 395.5,-261 395.5,-193 528.5,-193 528.5,-261\"/>\r\n",
       "<text text-anchor=\"start\" x=\"428\" y=\"-245.8\" font-family=\"Times New Roman,serif\" font-size=\"14.00\">RM ≤ 6.543</text>\r\n",
       "<text text-anchor=\"start\" x=\"403.5\" y=\"-230.8\" font-family=\"Times New Roman,serif\" font-size=\"14.00\">mse = 5671138100.0</text>\r\n",
       "<text text-anchor=\"start\" x=\"421\" y=\"-215.8\" font-family=\"Times New Roman,serif\" font-size=\"14.00\">samples = 210</text>\r\n",
       "<text text-anchor=\"start\" x=\"414\" y=\"-200.8\" font-family=\"Times New Roman,serif\" font-size=\"14.00\">value = 469970.0</text>\r\n",
       "</g>\r\n",
       "<!-- 1&#45;&gt;2 -->\r\n",
       "<g id=\"edge2\" class=\"edge\"><title>1&#45;&gt;2</title>\r\n",
       "<path fill=\"none\" stroke=\"black\" d=\"M856.881,-314.619C771.254,-295.836 626.936,-264.18 538.506,-244.782\"/>\r\n",
       "<polygon fill=\"black\" stroke=\"black\" points=\"539.055,-241.319 528.538,-242.595 537.556,-248.157 539.055,-241.319\"/>\r\n",
       "</g>\r\n",
       "<!-- 9 -->\r\n",
       "<g id=\"node10\" class=\"node\"><title>9</title>\r\n",
       "<polygon fill=\"#e58139\" fill-opacity=\"0.101961\" stroke=\"black\" points=\"997,-261 857,-261 857,-193 997,-193 997,-261\"/>\r\n",
       "<text text-anchor=\"start\" x=\"873.5\" y=\"-245.8\" font-family=\"Times New Roman,serif\" font-size=\"14.00\">PTRATIO ≤ 19.65</text>\r\n",
       "<text text-anchor=\"start\" x=\"865\" y=\"-230.8\" font-family=\"Times New Roman,serif\" font-size=\"14.00\">mse = 7649410180.73</text>\r\n",
       "<text text-anchor=\"start\" x=\"886\" y=\"-215.8\" font-family=\"Times New Roman,serif\" font-size=\"14.00\">samples = 122</text>\r\n",
       "<text text-anchor=\"start\" x=\"872.5\" y=\"-200.8\" font-family=\"Times New Roman,serif\" font-size=\"14.00\">value = 310645.082</text>\r\n",
       "</g>\r\n",
       "<!-- 1&#45;&gt;9 -->\r\n",
       "<g id=\"edge9\" class=\"edge\"><title>1&#45;&gt;9</title>\r\n",
       "<path fill=\"none\" stroke=\"black\" d=\"M927,-296.884C927,-288.778 927,-279.982 927,-271.472\"/>\r\n",
       "<polygon fill=\"black\" stroke=\"black\" points=\"930.5,-271.299 927,-261.299 923.5,-271.299 930.5,-271.299\"/>\r\n",
       "</g>\r\n",
       "<!-- 3 -->\r\n",
       "<g id=\"node4\" class=\"node\"><title>3</title>\r\n",
       "<polygon fill=\"#e58139\" fill-opacity=\"0.290196\" stroke=\"black\" points=\"298,-157 158,-157 158,-89 298,-89 298,-157\"/>\r\n",
       "<text text-anchor=\"start\" x=\"186\" y=\"-141.8\" font-family=\"Times New Roman,serif\" font-size=\"14.00\">LSTAT ≤ 7.76</text>\r\n",
       "<text text-anchor=\"start\" x=\"166\" y=\"-126.8\" font-family=\"Times New Roman,serif\" font-size=\"14.00\">mse = 3526172288.74</text>\r\n",
       "<text text-anchor=\"start\" x=\"187\" y=\"-111.8\" font-family=\"Times New Roman,serif\" font-size=\"14.00\">samples = 172</text>\r\n",
       "<text text-anchor=\"start\" x=\"173.5\" y=\"-96.8\" font-family=\"Times New Roman,serif\" font-size=\"14.00\">value = 449314.535</text>\r\n",
       "</g>\r\n",
       "<!-- 2&#45;&gt;3 -->\r\n",
       "<g id=\"edge3\" class=\"edge\"><title>2&#45;&gt;3</title>\r\n",
       "<path fill=\"none\" stroke=\"black\" d=\"M395.258,-196.907C367.951,-185.004 336.134,-171.135 307.625,-158.708\"/>\r\n",
       "<polygon fill=\"black\" stroke=\"black\" points=\"308.66,-155.341 298.094,-154.554 305.863,-161.758 308.66,-155.341\"/>\r\n",
       "</g>\r\n",
       "<!-- 6 -->\r\n",
       "<g id=\"node7\" class=\"node\"><title>6</title>\r\n",
       "<polygon fill=\"#e58139\" fill-opacity=\"0.443137\" stroke=\"black\" points=\"532,-157 392,-157 392,-89 532,-89 532,-157\"/>\r\n",
       "<text text-anchor=\"start\" x=\"416.5\" y=\"-141.8\" font-family=\"Times New Roman,serif\" font-size=\"14.00\">LSTAT ≤ 5.835</text>\r\n",
       "<text text-anchor=\"start\" x=\"400\" y=\"-126.8\" font-family=\"Times New Roman,serif\" font-size=\"14.00\">mse = 4707815484.77</text>\r\n",
       "<text text-anchor=\"start\" x=\"424.5\" y=\"-111.8\" font-family=\"Times New Roman,serif\" font-size=\"14.00\">samples = 38</text>\r\n",
       "<text text-anchor=\"start\" x=\"407.5\" y=\"-96.8\" font-family=\"Times New Roman,serif\" font-size=\"14.00\">value = 563463.158</text>\r\n",
       "</g>\r\n",
       "<!-- 2&#45;&gt;6 -->\r\n",
       "<g id=\"edge6\" class=\"edge\"><title>2&#45;&gt;6</title>\r\n",
       "<path fill=\"none\" stroke=\"black\" d=\"M462,-192.884C462,-184.778 462,-175.982 462,-167.472\"/>\r\n",
       "<polygon fill=\"black\" stroke=\"black\" points=\"465.5,-167.299 462,-157.299 458.5,-167.299 465.5,-167.299\"/>\r\n",
       "</g>\r\n",
       "<!-- 4 -->\r\n",
       "<g id=\"node5\" class=\"node\"><title>4</title>\r\n",
       "<polygon fill=\"#e58139\" fill-opacity=\"0.352941\" stroke=\"black\" points=\"140,-53 0,-53 0,-0 140,-0 140,-53\"/>\r\n",
       "<text text-anchor=\"start\" x=\"8\" y=\"-37.8\" font-family=\"Times New Roman,serif\" font-size=\"14.00\">mse = 1305424134.35</text>\r\n",
       "<text text-anchor=\"start\" x=\"32.5\" y=\"-22.8\" font-family=\"Times New Roman,serif\" font-size=\"14.00\">samples = 38</text>\r\n",
       "<text text-anchor=\"start\" x=\"15.5\" y=\"-7.8\" font-family=\"Times New Roman,serif\" font-size=\"14.00\">value = 496318.421</text>\r\n",
       "</g>\r\n",
       "<!-- 3&#45;&gt;4 -->\r\n",
       "<g id=\"edge4\" class=\"edge\"><title>3&#45;&gt;4</title>\r\n",
       "<path fill=\"none\" stroke=\"black\" d=\"M172.739,-88.9485C156.146,-79.0237 138.011,-68.1776 121.66,-58.3977\"/>\r\n",
       "<polygon fill=\"black\" stroke=\"black\" points=\"123.159,-55.216 112.78,-53.0867 119.565,-61.2234 123.159,-55.216\"/>\r\n",
       "</g>\r\n",
       "<!-- 5 -->\r\n",
       "<g id=\"node6\" class=\"node\"><title>5</title>\r\n",
       "<polygon fill=\"#e58139\" fill-opacity=\"0.270588\" stroke=\"black\" points=\"298,-53 158,-53 158,-0 298,-0 298,-53\"/>\r\n",
       "<text text-anchor=\"start\" x=\"166\" y=\"-37.8\" font-family=\"Times New Roman,serif\" font-size=\"14.00\">mse = 3351725747.38</text>\r\n",
       "<text text-anchor=\"start\" x=\"187\" y=\"-22.8\" font-family=\"Times New Roman,serif\" font-size=\"14.00\">samples = 134</text>\r\n",
       "<text text-anchor=\"start\" x=\"173.5\" y=\"-7.8\" font-family=\"Times New Roman,serif\" font-size=\"14.00\">value = 435985.075</text>\r\n",
       "</g>\r\n",
       "<!-- 3&#45;&gt;5 -->\r\n",
       "<g id=\"edge5\" class=\"edge\"><title>3&#45;&gt;5</title>\r\n",
       "<path fill=\"none\" stroke=\"black\" d=\"M228,-88.9485C228,-80.7153 228,-71.848 228,-63.4814\"/>\r\n",
       "<polygon fill=\"black\" stroke=\"black\" points=\"231.5,-63.2367 228,-53.2367 224.5,-63.2367 231.5,-63.2367\"/>\r\n",
       "</g>\r\n",
       "<!-- 7 -->\r\n",
       "<g id=\"node8\" class=\"node\"><title>7</title>\r\n",
       "<polygon fill=\"#e58139\" fill-opacity=\"0.501961\" stroke=\"black\" points=\"449.5,-53 316.5,-53 316.5,-0 449.5,-0 449.5,-53\"/>\r\n",
       "<text text-anchor=\"start\" x=\"324.5\" y=\"-37.8\" font-family=\"Times New Roman,serif\" font-size=\"14.00\">mse = 5281762500.0</text>\r\n",
       "<text text-anchor=\"start\" x=\"345.5\" y=\"-22.8\" font-family=\"Times New Roman,serif\" font-size=\"14.00\">samples = 14</text>\r\n",
       "<text text-anchor=\"start\" x=\"335\" y=\"-7.8\" font-family=\"Times New Roman,serif\" font-size=\"14.00\">value = 607950.0</text>\r\n",
       "</g>\r\n",
       "<!-- 6&#45;&gt;7 -->\r\n",
       "<g id=\"edge7\" class=\"edge\"><title>6&#45;&gt;7</title>\r\n",
       "<path fill=\"none\" stroke=\"black\" d=\"M434.37,-88.9485C426.799,-79.892 418.586,-70.0682 410.995,-60.9875\"/>\r\n",
       "<polygon fill=\"black\" stroke=\"black\" points=\"413.614,-58.6641 404.515,-53.2367 408.244,-63.1538 413.614,-58.6641\"/>\r\n",
       "</g>\r\n",
       "<!-- 8 -->\r\n",
       "<g id=\"node9\" class=\"node\"><title>8</title>\r\n",
       "<polygon fill=\"#e58139\" fill-opacity=\"0.407843\" stroke=\"black\" points=\"608,-53 468,-53 468,-0 608,-0 608,-53\"/>\r\n",
       "<text text-anchor=\"start\" x=\"476\" y=\"-37.8\" font-family=\"Times New Roman,serif\" font-size=\"14.00\">mse = 2545113593.75</text>\r\n",
       "<text text-anchor=\"start\" x=\"500.5\" y=\"-22.8\" font-family=\"Times New Roman,serif\" font-size=\"14.00\">samples = 24</text>\r\n",
       "<text text-anchor=\"start\" x=\"490\" y=\"-7.8\" font-family=\"Times New Roman,serif\" font-size=\"14.00\">value = 537512.5</text>\r\n",
       "</g>\r\n",
       "<!-- 6&#45;&gt;8 -->\r\n",
       "<g id=\"edge8\" class=\"edge\"><title>6&#45;&gt;8</title>\r\n",
       "<path fill=\"none\" stroke=\"black\" d=\"M488.581,-88.9485C495.791,-79.9834 503.606,-70.2666 510.847,-61.2629\"/>\r\n",
       "<polygon fill=\"black\" stroke=\"black\" points=\"513.762,-63.2228 517.302,-53.2367 508.307,-58.8358 513.762,-63.2228\"/>\r\n",
       "</g>\r\n",
       "<!-- 10 -->\r\n",
       "<g id=\"node11\" class=\"node\"><title>10</title>\r\n",
       "<polygon fill=\"#e58139\" fill-opacity=\"0.203922\" stroke=\"black\" points=\"918,-157 778,-157 778,-89 918,-89 918,-157\"/>\r\n",
       "<text text-anchor=\"start\" x=\"794.5\" y=\"-141.8\" font-family=\"Times New Roman,serif\" font-size=\"14.00\">PTRATIO ≤ 14.95</text>\r\n",
       "<text text-anchor=\"start\" x=\"786\" y=\"-126.8\" font-family=\"Times New Roman,serif\" font-size=\"14.00\">mse = 3393826894.46</text>\r\n",
       "<text text-anchor=\"start\" x=\"810.5\" y=\"-111.8\" font-family=\"Times New Roman,serif\" font-size=\"14.00\">samples = 34</text>\r\n",
       "<text text-anchor=\"start\" x=\"793.5\" y=\"-96.8\" font-family=\"Times New Roman,serif\" font-size=\"14.00\">value = 384732.353</text>\r\n",
       "</g>\r\n",
       "<!-- 9&#45;&gt;10 -->\r\n",
       "<g id=\"edge10\" class=\"edge\"><title>9&#45;&gt;10</title>\r\n",
       "<path fill=\"none\" stroke=\"black\" d=\"M901.351,-192.884C894.521,-184.065 887.059,-174.43 879.937,-165.235\"/>\r\n",
       "<polygon fill=\"black\" stroke=\"black\" points=\"882.681,-163.062 873.791,-157.299 877.147,-167.349 882.681,-163.062\"/>\r\n",
       "</g>\r\n",
       "<!-- 13 -->\r\n",
       "<g id=\"node14\" class=\"node\"><title>13</title>\r\n",
       "<polygon fill=\"#e58139\" fill-opacity=\"0.066667\" stroke=\"black\" points=\"1072.5,-157 939.5,-157 939.5,-89 1072.5,-89 1072.5,-157\"/>\r\n",
       "<text text-anchor=\"start\" x=\"960.5\" y=\"-141.8\" font-family=\"Times New Roman,serif\" font-size=\"14.00\">LSTAT ≤ 19.73</text>\r\n",
       "<text text-anchor=\"start\" x=\"947.5\" y=\"-126.8\" font-family=\"Times New Roman,serif\" font-size=\"14.00\">mse = 6353522990.7</text>\r\n",
       "<text text-anchor=\"start\" x=\"968.5\" y=\"-111.8\" font-family=\"Times New Roman,serif\" font-size=\"14.00\">samples = 88</text>\r\n",
       "<text text-anchor=\"start\" x=\"951.5\" y=\"-96.8\" font-family=\"Times New Roman,serif\" font-size=\"14.00\">value = 282020.455</text>\r\n",
       "</g>\r\n",
       "<!-- 9&#45;&gt;13 -->\r\n",
       "<g id=\"edge13\" class=\"edge\"><title>9&#45;&gt;13</title>\r\n",
       "<path fill=\"none\" stroke=\"black\" d=\"M952.649,-192.884C959.479,-184.065 966.941,-174.43 974.063,-165.235\"/>\r\n",
       "<polygon fill=\"black\" stroke=\"black\" points=\"976.853,-167.349 980.209,-157.299 971.319,-163.062 976.853,-167.349\"/>\r\n",
       "</g>\r\n",
       "<!-- 11 -->\r\n",
       "<g id=\"node12\" class=\"node\"><title>11</title>\r\n",
       "<polygon fill=\"#e58139\" fill-opacity=\"0.133333\" stroke=\"black\" points=\"759.5,-53 626.5,-53 626.5,-0 759.5,-0 759.5,-53\"/>\r\n",
       "<text text-anchor=\"start\" x=\"634.5\" y=\"-37.8\" font-family=\"Times New Roman,serif\" font-size=\"14.00\">mse = 1317531600.0</text>\r\n",
       "<text text-anchor=\"start\" x=\"655.5\" y=\"-22.8\" font-family=\"Times New Roman,serif\" font-size=\"14.00\">samples = 10</text>\r\n",
       "<text text-anchor=\"start\" x=\"645\" y=\"-7.8\" font-family=\"Times New Roman,serif\" font-size=\"14.00\">value = 332220.0</text>\r\n",
       "</g>\r\n",
       "<!-- 10&#45;&gt;11 -->\r\n",
       "<g id=\"edge11\" class=\"edge\"><title>10&#45;&gt;11</title>\r\n",
       "<path fill=\"none\" stroke=\"black\" d=\"M793.789,-88.9485C777.583,-79.0686 759.881,-68.2758 743.897,-58.5305\"/>\r\n",
       "<polygon fill=\"black\" stroke=\"black\" points=\"745.574,-55.4539 735.214,-53.2367 741.93,-61.4307 745.574,-55.4539\"/>\r\n",
       "</g>\r\n",
       "<!-- 12 -->\r\n",
       "<g id=\"node13\" class=\"node\"><title>12</title>\r\n",
       "<polygon fill=\"#e58139\" fill-opacity=\"0.231373\" stroke=\"black\" points=\"918,-53 778,-53 778,-0 918,-0 918,-53\"/>\r\n",
       "<text text-anchor=\"start\" x=\"786\" y=\"-37.8\" font-family=\"Times New Roman,serif\" font-size=\"14.00\">mse = 2631231093.75</text>\r\n",
       "<text text-anchor=\"start\" x=\"810.5\" y=\"-22.8\" font-family=\"Times New Roman,serif\" font-size=\"14.00\">samples = 24</text>\r\n",
       "<text text-anchor=\"start\" x=\"800\" y=\"-7.8\" font-family=\"Times New Roman,serif\" font-size=\"14.00\">value = 406612.5</text>\r\n",
       "</g>\r\n",
       "<!-- 10&#45;&gt;12 -->\r\n",
       "<g id=\"edge12\" class=\"edge\"><title>10&#45;&gt;12</title>\r\n",
       "<path fill=\"none\" stroke=\"black\" d=\"M848,-88.9485C848,-80.7153 848,-71.848 848,-63.4814\"/>\r\n",
       "<polygon fill=\"black\" stroke=\"black\" points=\"851.5,-63.2367 848,-53.2367 844.5,-63.2367 851.5,-63.2367\"/>\r\n",
       "</g>\r\n",
       "<!-- 14 -->\r\n",
       "<g id=\"node15\" class=\"node\"><title>14</title>\r\n",
       "<polygon fill=\"#e58139\" fill-opacity=\"0.129412\" stroke=\"black\" points=\"1076,-53 936,-53 936,-0 1076,-0 1076,-53\"/>\r\n",
       "<text text-anchor=\"start\" x=\"944\" y=\"-37.8\" font-family=\"Times New Roman,serif\" font-size=\"14.00\">mse = 2660988533.06</text>\r\n",
       "<text text-anchor=\"start\" x=\"968.5\" y=\"-22.8\" font-family=\"Times New Roman,serif\" font-size=\"14.00\">samples = 44</text>\r\n",
       "<text text-anchor=\"start\" x=\"951.5\" y=\"-7.8\" font-family=\"Times New Roman,serif\" font-size=\"14.00\">value = 331131.818</text>\r\n",
       "</g>\r\n",
       "<!-- 13&#45;&gt;14 -->\r\n",
       "<g id=\"edge14\" class=\"edge\"><title>13&#45;&gt;14</title>\r\n",
       "<path fill=\"none\" stroke=\"black\" d=\"M1006,-88.9485C1006,-80.7153 1006,-71.848 1006,-63.4814\"/>\r\n",
       "<polygon fill=\"black\" stroke=\"black\" points=\"1009.5,-63.2367 1006,-53.2367 1002.5,-63.2367 1009.5,-63.2367\"/>\r\n",
       "</g>\r\n",
       "<!-- 15 -->\r\n",
       "<g id=\"node16\" class=\"node\"><title>15</title>\r\n",
       "<polygon fill=\"none\" stroke=\"black\" points=\"1227.5,-53 1094.5,-53 1094.5,-0 1227.5,-0 1227.5,-53\"/>\r\n",
       "<text text-anchor=\"start\" x=\"1102.5\" y=\"-37.8\" font-family=\"Times New Roman,serif\" font-size=\"14.00\">mse = 5222205371.9</text>\r\n",
       "<text text-anchor=\"start\" x=\"1123.5\" y=\"-22.8\" font-family=\"Times New Roman,serif\" font-size=\"14.00\">samples = 44</text>\r\n",
       "<text text-anchor=\"start\" x=\"1106.5\" y=\"-7.8\" font-family=\"Times New Roman,serif\" font-size=\"14.00\">value = 232909.091</text>\r\n",
       "</g>\r\n",
       "<!-- 13&#45;&gt;15 -->\r\n",
       "<g id=\"edge15\" class=\"edge\"><title>13&#45;&gt;15</title>\r\n",
       "<path fill=\"none\" stroke=\"black\" d=\"M1060.21,-88.9485C1076.42,-79.0686 1094.12,-68.2758 1110.1,-58.5305\"/>\r\n",
       "<polygon fill=\"black\" stroke=\"black\" points=\"1112.07,-61.4307 1118.79,-53.2367 1108.43,-55.4539 1112.07,-61.4307\"/>\r\n",
       "</g>\r\n",
       "<!-- 17 -->\r\n",
       "<g id=\"node18\" class=\"node\"><title>17</title>\r\n",
       "<polygon fill=\"#e58139\" fill-opacity=\"0.545098\" stroke=\"black\" points=\"1621,-261 1481,-261 1481,-193 1621,-193 1621,-261\"/>\r\n",
       "<text text-anchor=\"start\" x=\"1497.5\" y=\"-245.8\" font-family=\"Times New Roman,serif\" font-size=\"14.00\">PTRATIO ≤ 19.95</text>\r\n",
       "<text text-anchor=\"start\" x=\"1489\" y=\"-230.8\" font-family=\"Times New Roman,serif\" font-size=\"14.00\">mse = 16578436007.2</text>\r\n",
       "<text text-anchor=\"start\" x=\"1513.5\" y=\"-215.8\" font-family=\"Times New Roman,serif\" font-size=\"14.00\">samples = 44</text>\r\n",
       "<text text-anchor=\"start\" x=\"1496.5\" y=\"-200.8\" font-family=\"Times New Roman,serif\" font-size=\"14.00\">value = 640261.364</text>\r\n",
       "</g>\r\n",
       "<!-- 16&#45;&gt;17 -->\r\n",
       "<g id=\"edge17\" class=\"edge\"><title>16&#45;&gt;17</title>\r\n",
       "<path fill=\"none\" stroke=\"black\" d=\"M1551,-296.884C1551,-288.778 1551,-279.982 1551,-271.472\"/>\r\n",
       "<polygon fill=\"black\" stroke=\"black\" points=\"1554.5,-271.299 1551,-261.299 1547.5,-271.299 1554.5,-271.299\"/>\r\n",
       "</g>\r\n",
       "<!-- 24 -->\r\n",
       "<g id=\"node25\" class=\"node\"><title>24</title>\r\n",
       "<polygon fill=\"#e58139\" fill-opacity=\"0.898039\" stroke=\"black\" points=\"2067.5,-261 1934.5,-261 1934.5,-193 2067.5,-193 2067.5,-261\"/>\r\n",
       "<text text-anchor=\"start\" x=\"1955.5\" y=\"-245.8\" font-family=\"Times New Roman,serif\" font-size=\"14.00\">LSTAT ≤ 4.175</text>\r\n",
       "<text text-anchor=\"start\" x=\"1942.5\" y=\"-230.8\" font-family=\"Times New Roman,serif\" font-size=\"14.00\">mse = 6248558400.0</text>\r\n",
       "<text text-anchor=\"start\" x=\"1963.5\" y=\"-215.8\" font-family=\"Times New Roman,serif\" font-size=\"14.00\">samples = 15</text>\r\n",
       "<text text-anchor=\"start\" x=\"1953\" y=\"-200.8\" font-family=\"Times New Roman,serif\" font-size=\"14.00\">value = 904260.0</text>\r\n",
       "</g>\r\n",
       "<!-- 16&#45;&gt;24 -->\r\n",
       "<g id=\"edge24\" class=\"edge\"><title>16&#45;&gt;24</title>\r\n",
       "<path fill=\"none\" stroke=\"black\" d=\"M1621.31,-314.063C1703.7,-295.387 1839.73,-264.555 1924.64,-245.308\"/>\r\n",
       "<polygon fill=\"black\" stroke=\"black\" points=\"1925.5,-248.702 1934.48,-243.078 1923.95,-241.875 1925.5,-248.702\"/>\r\n",
       "</g>\r\n",
       "<!-- 18 -->\r\n",
       "<g id=\"node19\" class=\"node\"><title>18</title>\r\n",
       "<polygon fill=\"#e58139\" fill-opacity=\"0.588235\" stroke=\"black\" points=\"1542,-157 1402,-157 1402,-89 1542,-89 1542,-157\"/>\r\n",
       "<text text-anchor=\"start\" x=\"1426.5\" y=\"-141.8\" font-family=\"Times New Roman,serif\" font-size=\"14.00\">LSTAT ≤ 5.495</text>\r\n",
       "<text text-anchor=\"start\" x=\"1410\" y=\"-126.8\" font-family=\"Times New Roman,serif\" font-size=\"14.00\">mse = 7863714099.72</text>\r\n",
       "<text text-anchor=\"start\" x=\"1434.5\" y=\"-111.8\" font-family=\"Times New Roman,serif\" font-size=\"14.00\">samples = 38</text>\r\n",
       "<text text-anchor=\"start\" x=\"1417.5\" y=\"-96.8\" font-family=\"Times New Roman,serif\" font-size=\"14.00\">value = 673989.474</text>\r\n",
       "</g>\r\n",
       "<!-- 17&#45;&gt;18 -->\r\n",
       "<g id=\"edge18\" class=\"edge\"><title>17&#45;&gt;18</title>\r\n",
       "<path fill=\"none\" stroke=\"black\" d=\"M1525.35,-192.884C1518.52,-184.065 1511.06,-174.43 1503.94,-165.235\"/>\r\n",
       "<polygon fill=\"black\" stroke=\"black\" points=\"1506.68,-163.062 1497.79,-157.299 1501.15,-167.349 1506.68,-163.062\"/>\r\n",
       "</g>\r\n",
       "<!-- 21 -->\r\n",
       "<g id=\"node22\" class=\"node\"><title>21</title>\r\n",
       "<polygon fill=\"#e58139\" fill-opacity=\"0.258824\" stroke=\"black\" points=\"1700,-157 1560,-157 1560,-89 1700,-89 1700,-157\"/>\r\n",
       "<text text-anchor=\"start\" x=\"1584.5\" y=\"-141.8\" font-family=\"Times New Roman,serif\" font-size=\"14.00\">LSTAT ≤ 12.55</text>\r\n",
       "<text text-anchor=\"start\" x=\"1568\" y=\"-126.8\" font-family=\"Times New Roman,serif\" font-size=\"14.00\">mse = 18937152500.0</text>\r\n",
       "<text text-anchor=\"start\" x=\"1596\" y=\"-111.8\" font-family=\"Times New Roman,serif\" font-size=\"14.00\">samples = 6</text>\r\n",
       "<text text-anchor=\"start\" x=\"1582\" y=\"-96.8\" font-family=\"Times New Roman,serif\" font-size=\"14.00\">value = 426650.0</text>\r\n",
       "</g>\r\n",
       "<!-- 17&#45;&gt;21 -->\r\n",
       "<g id=\"edge21\" class=\"edge\"><title>17&#45;&gt;21</title>\r\n",
       "<path fill=\"none\" stroke=\"black\" d=\"M1576.65,-192.884C1583.48,-184.065 1590.94,-174.43 1598.06,-165.235\"/>\r\n",
       "<polygon fill=\"black\" stroke=\"black\" points=\"1600.85,-167.349 1604.21,-157.299 1595.32,-163.062 1600.85,-167.349\"/>\r\n",
       "</g>\r\n",
       "<!-- 19 -->\r\n",
       "<g id=\"node20\" class=\"node\"><title>19</title>\r\n",
       "<polygon fill=\"#e58139\" fill-opacity=\"0.647059\" stroke=\"black\" points=\"1386,-53 1246,-53 1246,-0 1386,-0 1386,-53\"/>\r\n",
       "<text text-anchor=\"start\" x=\"1254\" y=\"-37.8\" font-family=\"Times New Roman,serif\" font-size=\"14.00\">mse = 4311850165.29</text>\r\n",
       "<text text-anchor=\"start\" x=\"1278.5\" y=\"-22.8\" font-family=\"Times New Roman,serif\" font-size=\"14.00\">samples = 22</text>\r\n",
       "<text text-anchor=\"start\" x=\"1261.5\" y=\"-7.8\" font-family=\"Times New Roman,serif\" font-size=\"14.00\">value = 718772.727</text>\r\n",
       "</g>\r\n",
       "<!-- 18&#45;&gt;19 -->\r\n",
       "<g id=\"edge19\" class=\"edge\"><title>18&#45;&gt;19</title>\r\n",
       "<path fill=\"none\" stroke=\"black\" d=\"M1417.44,-88.9485C1401.13,-79.0686 1383.31,-68.2758 1367.22,-58.5305\"/>\r\n",
       "<polygon fill=\"black\" stroke=\"black\" points=\"1368.85,-55.4244 1358.49,-53.2367 1365.23,-61.4115 1368.85,-55.4244\"/>\r\n",
       "</g>\r\n",
       "<!-- 20 -->\r\n",
       "<g id=\"node21\" class=\"node\"><title>20</title>\r\n",
       "<polygon fill=\"#e58139\" fill-opacity=\"0.505882\" stroke=\"black\" points=\"1544,-53 1404,-53 1404,-0 1544,-0 1544,-53\"/>\r\n",
       "<text text-anchor=\"start\" x=\"1412\" y=\"-37.8\" font-family=\"Times New Roman,serif\" font-size=\"14.00\">mse = 6198186093.75</text>\r\n",
       "<text text-anchor=\"start\" x=\"1436.5\" y=\"-22.8\" font-family=\"Times New Roman,serif\" font-size=\"14.00\">samples = 16</text>\r\n",
       "<text text-anchor=\"start\" x=\"1426\" y=\"-7.8\" font-family=\"Times New Roman,serif\" font-size=\"14.00\">value = 612412.5</text>\r\n",
       "</g>\r\n",
       "<!-- 18&#45;&gt;20 -->\r\n",
       "<g id=\"edge20\" class=\"edge\"><title>18&#45;&gt;20</title>\r\n",
       "<path fill=\"none\" stroke=\"black\" d=\"M1472.7,-88.9485C1472.87,-80.7153 1473.06,-71.848 1473.24,-63.4814\"/>\r\n",
       "<polygon fill=\"black\" stroke=\"black\" points=\"1476.74,-63.3086 1473.46,-53.2367 1469.74,-63.1604 1476.74,-63.3086\"/>\r\n",
       "</g>\r\n",
       "<!-- 22 -->\r\n",
       "<g id=\"node23\" class=\"node\"><title>22</title>\r\n",
       "<polygon fill=\"#e58139\" fill-opacity=\"0.423529\" stroke=\"black\" points=\"1695.5,-53 1562.5,-53 1562.5,-0 1695.5,-0 1695.5,-53\"/>\r\n",
       "<text text-anchor=\"start\" x=\"1570.5\" y=\"-37.8\" font-family=\"Times New Roman,serif\" font-size=\"14.00\">mse = 2893940000.0</text>\r\n",
       "<text text-anchor=\"start\" x=\"1595\" y=\"-22.8\" font-family=\"Times New Roman,serif\" font-size=\"14.00\">samples = 3</text>\r\n",
       "<text text-anchor=\"start\" x=\"1581\" y=\"-7.8\" font-family=\"Times New Roman,serif\" font-size=\"14.00\">value = 550900.0</text>\r\n",
       "</g>\r\n",
       "<!-- 21&#45;&gt;22 -->\r\n",
       "<g id=\"edge22\" class=\"edge\"><title>21&#45;&gt;22</title>\r\n",
       "<path fill=\"none\" stroke=\"black\" d=\"M1629.65,-88.9485C1629.56,-80.7153 1629.47,-71.848 1629.38,-63.4814\"/>\r\n",
       "<polygon fill=\"black\" stroke=\"black\" points=\"1632.88,-63.1991 1629.27,-53.2367 1625.88,-63.2732 1632.88,-63.1991\"/>\r\n",
       "</g>\r\n",
       "<!-- 23 -->\r\n",
       "<g id=\"node24\" class=\"node\"><title>23</title>\r\n",
       "<polygon fill=\"#e58139\" fill-opacity=\"0.094118\" stroke=\"black\" points=\"1846.5,-53 1713.5,-53 1713.5,-0 1846.5,-0 1846.5,-53\"/>\r\n",
       "<text text-anchor=\"start\" x=\"1721.5\" y=\"-37.8\" font-family=\"Times New Roman,serif\" font-size=\"14.00\">mse = 4104240000.0</text>\r\n",
       "<text text-anchor=\"start\" x=\"1746\" y=\"-22.8\" font-family=\"Times New Roman,serif\" font-size=\"14.00\">samples = 3</text>\r\n",
       "<text text-anchor=\"start\" x=\"1732\" y=\"-7.8\" font-family=\"Times New Roman,serif\" font-size=\"14.00\">value = 302400.0</text>\r\n",
       "</g>\r\n",
       "<!-- 21&#45;&gt;23 -->\r\n",
       "<g id=\"edge23\" class=\"edge\"><title>21&#45;&gt;23</title>\r\n",
       "<path fill=\"none\" stroke=\"black\" d=\"M1682.46,-88.9485C1698,-79.1601 1714.96,-68.4756 1730.32,-58.8015\"/>\r\n",
       "<polygon fill=\"black\" stroke=\"black\" points=\"1732.55,-61.5285 1739.15,-53.2367 1728.82,-55.6058 1732.55,-61.5285\"/>\r\n",
       "</g>\r\n",
       "<!-- 25 -->\r\n",
       "<g id=\"node26\" class=\"node\"><title>25</title>\r\n",
       "<polygon fill=\"#e58139\" fill-opacity=\"0.937255\" stroke=\"black\" points=\"2071,-157 1931,-157 1931,-89 2071,-89 2071,-157\"/>\r\n",
       "<text text-anchor=\"start\" x=\"1955.5\" y=\"-141.8\" font-family=\"Times New Roman,serif\" font-size=\"14.00\">LSTAT ≤ 3.665</text>\r\n",
       "<text text-anchor=\"start\" x=\"1939\" y=\"-126.8\" font-family=\"Times New Roman,serif\" font-size=\"14.00\">mse = 3986858677.69</text>\r\n",
       "<text text-anchor=\"start\" x=\"1963.5\" y=\"-111.8\" font-family=\"Times New Roman,serif\" font-size=\"14.00\">samples = 11</text>\r\n",
       "<text text-anchor=\"start\" x=\"1946.5\" y=\"-96.8\" font-family=\"Times New Roman,serif\" font-size=\"14.00\">value = 933736.364</text>\r\n",
       "</g>\r\n",
       "<!-- 24&#45;&gt;25 -->\r\n",
       "<g id=\"edge25\" class=\"edge\"><title>24&#45;&gt;25</title>\r\n",
       "<path fill=\"none\" stroke=\"black\" d=\"M2001,-192.884C2001,-184.778 2001,-175.982 2001,-167.472\"/>\r\n",
       "<polygon fill=\"black\" stroke=\"black\" points=\"2004.5,-167.299 2001,-157.299 1997.5,-167.299 2004.5,-167.299\"/>\r\n",
       "</g>\r\n",
       "<!-- 28 -->\r\n",
       "<g id=\"node29\" class=\"node\"><title>28</title>\r\n",
       "<polygon fill=\"#e58139\" fill-opacity=\"0.788235\" stroke=\"black\" points=\"2293.5,-157 2160.5,-157 2160.5,-89 2293.5,-89 2293.5,-157\"/>\r\n",
       "<text text-anchor=\"start\" x=\"2177\" y=\"-141.8\" font-family=\"Times New Roman,serif\" font-size=\"14.00\">PTRATIO ≤ 18.3</text>\r\n",
       "<text text-anchor=\"start\" x=\"2168.5\" y=\"-126.8\" font-family=\"Times New Roman,serif\" font-size=\"14.00\">mse = 3508155000.0</text>\r\n",
       "<text text-anchor=\"start\" x=\"2193\" y=\"-111.8\" font-family=\"Times New Roman,serif\" font-size=\"14.00\">samples = 4</text>\r\n",
       "<text text-anchor=\"start\" x=\"2179\" y=\"-96.8\" font-family=\"Times New Roman,serif\" font-size=\"14.00\">value = 823200.0</text>\r\n",
       "</g>\r\n",
       "<!-- 24&#45;&gt;28 -->\r\n",
       "<g id=\"edge28\" class=\"edge\"><title>24&#45;&gt;28</title>\r\n",
       "<path fill=\"none\" stroke=\"black\" d=\"M2067.59,-195.948C2093.67,-184.173 2123.76,-170.595 2150.72,-158.429\"/>\r\n",
       "<polygon fill=\"black\" stroke=\"black\" points=\"2152.43,-161.493 2160.11,-154.189 2149.56,-155.113 2152.43,-161.493\"/>\r\n",
       "</g>\r\n",
       "<!-- 26 -->\r\n",
       "<g id=\"node27\" class=\"node\"><title>26</title>\r\n",
       "<polygon fill=\"#e58139\" fill-opacity=\"0.882353\" stroke=\"black\" points=\"1997.5,-53 1864.5,-53 1864.5,-0 1997.5,-0 1997.5,-53\"/>\r\n",
       "<text text-anchor=\"start\" x=\"1872.5\" y=\"-37.8\" font-family=\"Times New Roman,serif\" font-size=\"14.00\">mse = 3002720000.0</text>\r\n",
       "<text text-anchor=\"start\" x=\"1897\" y=\"-22.8\" font-family=\"Times New Roman,serif\" font-size=\"14.00\">samples = 6</text>\r\n",
       "<text text-anchor=\"start\" x=\"1883\" y=\"-7.8\" font-family=\"Times New Roman,serif\" font-size=\"14.00\">value = 893900.0</text>\r\n",
       "</g>\r\n",
       "<!-- 25&#45;&gt;26 -->\r\n",
       "<g id=\"edge26\" class=\"edge\"><title>25&#45;&gt;26</title>\r\n",
       "<path fill=\"none\" stroke=\"black\" d=\"M1976.52,-88.9485C1969.94,-80.0749 1962.83,-70.4648 1956.21,-61.5388\"/>\r\n",
       "<polygon fill=\"black\" stroke=\"black\" points=\"1958.83,-59.189 1950.06,-53.2367 1953.2,-63.3556 1958.83,-59.189\"/>\r\n",
       "</g>\r\n",
       "<!-- 27 -->\r\n",
       "<g id=\"node28\" class=\"node\"><title>27</title>\r\n",
       "<polygon fill=\"#e58139\" stroke=\"black\" points=\"2142,-53 2016,-53 2016,-0 2142,-0 2142,-53\"/>\r\n",
       "<text text-anchor=\"start\" x=\"2024\" y=\"-37.8\" font-family=\"Times New Roman,serif\" font-size=\"14.00\">mse = 978314400.0</text>\r\n",
       "<text text-anchor=\"start\" x=\"2045\" y=\"-22.8\" font-family=\"Times New Roman,serif\" font-size=\"14.00\">samples = 5</text>\r\n",
       "<text text-anchor=\"start\" x=\"2031\" y=\"-7.8\" font-family=\"Times New Roman,serif\" font-size=\"14.00\">value = 981540.0</text>\r\n",
       "</g>\r\n",
       "<!-- 25&#45;&gt;27 -->\r\n",
       "<g id=\"edge27\" class=\"edge\"><title>25&#45;&gt;27</title>\r\n",
       "<path fill=\"none\" stroke=\"black\" d=\"M2028.28,-88.9485C2035.76,-79.892 2043.86,-70.0682 2051.36,-60.9875\"/>\r\n",
       "<polygon fill=\"black\" stroke=\"black\" points=\"2054.09,-63.1769 2057.76,-53.2367 2048.69,-58.721 2054.09,-63.1769\"/>\r\n",
       "</g>\r\n",
       "<!-- 29 -->\r\n",
       "<g id=\"node30\" class=\"node\"><title>29</title>\r\n",
       "<polygon fill=\"#e58139\" fill-opacity=\"0.827451\" stroke=\"black\" points=\"2293.5,-53 2160.5,-53 2160.5,-0 2293.5,-0 2293.5,-53\"/>\r\n",
       "<text text-anchor=\"start\" x=\"2168.5\" y=\"-37.8\" font-family=\"Times New Roman,serif\" font-size=\"14.00\">mse = 1541540000.0</text>\r\n",
       "<text text-anchor=\"start\" x=\"2193\" y=\"-22.8\" font-family=\"Times New Roman,serif\" font-size=\"14.00\">samples = 3</text>\r\n",
       "<text text-anchor=\"start\" x=\"2179\" y=\"-7.8\" font-family=\"Times New Roman,serif\" font-size=\"14.00\">value = 851200.0</text>\r\n",
       "</g>\r\n",
       "<!-- 28&#45;&gt;29 -->\r\n",
       "<g id=\"edge29\" class=\"edge\"><title>28&#45;&gt;29</title>\r\n",
       "<path fill=\"none\" stroke=\"black\" d=\"M2227,-88.9485C2227,-80.7153 2227,-71.848 2227,-63.4814\"/>\r\n",
       "<polygon fill=\"black\" stroke=\"black\" points=\"2230.5,-63.2367 2227,-53.2367 2223.5,-63.2367 2230.5,-63.2367\"/>\r\n",
       "</g>\r\n",
       "<!-- 30 -->\r\n",
       "<g id=\"node31\" class=\"node\"><title>30</title>\r\n",
       "<polygon fill=\"#e58139\" fill-opacity=\"0.674510\" stroke=\"black\" points=\"2424,-53 2312,-53 2312,-0 2424,-0 2424,-53\"/>\r\n",
       "<text text-anchor=\"start\" x=\"2340\" y=\"-37.8\" font-family=\"Times New Roman,serif\" font-size=\"14.00\">mse = 0.0</text>\r\n",
       "<text text-anchor=\"start\" x=\"2334\" y=\"-22.8\" font-family=\"Times New Roman,serif\" font-size=\"14.00\">samples = 1</text>\r\n",
       "<text text-anchor=\"start\" x=\"2320\" y=\"-7.8\" font-family=\"Times New Roman,serif\" font-size=\"14.00\">value = 739200.0</text>\r\n",
       "</g>\r\n",
       "<!-- 28&#45;&gt;30 -->\r\n",
       "<g id=\"edge30\" class=\"edge\"><title>28&#45;&gt;30</title>\r\n",
       "<path fill=\"none\" stroke=\"black\" d=\"M2276.31,-88.9485C2290.78,-79.2516 2306.56,-68.6752 2320.89,-59.073\"/>\r\n",
       "<polygon fill=\"black\" stroke=\"black\" points=\"2323.24,-61.7115 2329.6,-53.2367 2319.34,-55.8967 2323.24,-61.7115\"/>\r\n",
       "</g>\r\n",
       "</g>\r\n",
       "</svg>\r\n"
      ],
      "text/plain": [
       "<graphviz.files.Source at 0x27bbf5265c0>"
      ]
     },
     "execution_count": 12,
     "metadata": {},
     "output_type": "execute_result"
    }
   ],
   "source": [
    "from IPython.display import Image\n",
    "from sklearn import tree\n",
    "import graphviz \n",
    "\n",
    "dot_data = tree.export_graphviz(reg, out_file=None,\n",
    "                                feature_names=X_train.columns,\n",
    "                                class_names=\"PRICES\",\n",
    "                                filled=True,\n",
    "                               special_characters=True)\n",
    "graph = graphviz.Source(dot_data)\n",
    "graph"
   ]
  },
  {
   "cell_type": "markdown",
   "metadata": {},
   "source": [
    "### Test data performance\n",
    "\n",
    "Define a function to plot a residual plot for regression problems. A randomly dispersed residual plot around the horizontal axis implies that the regression model is appropriate for the data; else, a non-linear regression model is more appropriate. "
   ]
  },
  {
   "cell_type": "code",
   "execution_count": 13,
   "metadata": {
    "collapsed": true
   },
   "outputs": [],
   "source": [
    "y_pred = reg.predict(X_test)"
   ]
  },
  {
   "cell_type": "code",
   "execution_count": 14,
   "metadata": {},
   "outputs": [
    {
     "data": {
      "image/png": "[encoded data removed]",
      "text/plain": [
       "<matplotlib.figure.Figure at 0x27bbf3e8a58>"
      ]
     },
     "metadata": {},
     "output_type": "display_data"
    }
   ],
   "source": [
    "def plot_residual_plot(y_true, y_pred):\n",
    "    residuals = [(pred_val - true_val) for true_val, pred_val in zip(y_true, y_pred)]\n",
    "    plt.plot(y_true, residuals, 'o')\n",
    "    plt.axhline(0, color='green')\n",
    "    plt.title(\"Residual Plot\", fontsize=20)\n",
    "    plt.xlabel(\"True values\", fontsize=15)\n",
    "    plt.ylabel(\"Residuals\", fontsize=15)\n",
    "    plt.tight_layout()\n",
    "\n",
    "plot_residual_plot(y_true=y_test, y_pred=y_pred)"
   ]
  },
  {
   "cell_type": "markdown",
   "metadata": {},
   "source": [
    "### Question 10 - Predicting Selling Prices\n",
    "Imagine that you were a real estate agent in the Boston area looking to use this model to help price homes owned by your clients that they wish to sell. You have collected the following information from three of your clients:\n",
    "\n",
    "| Feature | Client 1 | Client 2 | Client 3 |\n",
    "| :---: | :---: | :---: | :---: |\n",
    "| Total number of rooms in home | 5 rooms | 4 rooms | 8 rooms |\n",
    "| Neighborhood poverty level (as %) | 17% | 32% | 3% |\n",
    "| Student-teacher ratio of nearby schools | 15-to-1 | 22-to-1 | 12-to-1 |\n",
    "\n",
    "* What price would you recommend each client sell his/her home at? \n",
    "* Do these prices seem reasonable given the values for the respective features? \n",
    "\n",
    "**Hint:** Use the statistics you calculated in the **Data Exploration** section to help justify your response.  Of the three clients, client 3 has has the biggest house, in the best public school neighborhood with the lowest poverty level; while client 2 has the smallest house, in a neighborhood with a relatively high poverty rate and not the best public schools.\n",
    "\n",
    "Run the code block below to have your optimized model make predictions for each client's home."
   ]
  },
  {
   "cell_type": "code",
   "execution_count": 15,
   "metadata": {},
   "outputs": [
    {
     "name": "stdout",
     "output_type": "stream",
     "text": [
      "Predicted selling price for Client 1's home: $406,612.50\n",
      "Predicted selling price for Client 2's home: $232,909.09\n",
      "Predicted selling price for Client 3's home: $893,900.00\n"
     ]
    }
   ],
   "source": [
    "# Produce a matrix for client data\n",
    "client_data = [[5, 17, 15], # Client 1\n",
    "               [4, 32, 22], # Client 2\n",
    "               [8, 3, 12]]  # Client 3\n",
    "\n",
    "# Show predictions\n",
    "for i, price in enumerate(reg.predict(client_data)):\n",
    "    print (\"Predicted selling price for Client {}'s home: ${:,.2f}\".format(i+1, price))"
   ]
  },
  {
   "cell_type": "code",
   "execution_count": 16,
   "metadata": {},
   "outputs": [
    {
     "data": {
      "text/html": [
       "<div>\n",
       "<style>\n",
       "    .dataframe thead tr:only-child th {\n",
       "        text-align: right;\n",
       "    }\n",
       "\n",
       "    .dataframe thead th {\n",
       "        text-align: left;\n",
       "    }\n",
       "\n",
       "    .dataframe tbody tr th {\n",
       "        vertical-align: top;\n",
       "    }\n",
       "</style>\n",
       "<table border=\"1\" class=\"dataframe\">\n",
       "  <thead>\n",
       "    <tr style=\"text-align: right;\">\n",
       "      <th></th>\n",
       "      <th>RM</th>\n",
       "      <th>LSTAT</th>\n",
       "      <th>PTRATIO</th>\n",
       "    </tr>\n",
       "  </thead>\n",
       "  <tbody>\n",
       "    <tr>\n",
       "      <th>count</th>\n",
       "      <td>391.000000</td>\n",
       "      <td>391.000000</td>\n",
       "      <td>391.000000</td>\n",
       "    </tr>\n",
       "    <tr>\n",
       "      <th>mean</th>\n",
       "      <td>6.252141</td>\n",
       "      <td>12.780077</td>\n",
       "      <td>18.543478</td>\n",
       "    </tr>\n",
       "    <tr>\n",
       "      <th>std</th>\n",
       "      <td>0.620402</td>\n",
       "      <td>6.942496</td>\n",
       "      <td>2.065045</td>\n",
       "    </tr>\n",
       "    <tr>\n",
       "      <th>min</th>\n",
       "      <td>3.863000</td>\n",
       "      <td>1.980000</td>\n",
       "      <td>12.600000</td>\n",
       "    </tr>\n",
       "    <tr>\n",
       "      <th>25%</th>\n",
       "      <td>5.882000</td>\n",
       "      <td>7.390000</td>\n",
       "      <td>17.400000</td>\n",
       "    </tr>\n",
       "    <tr>\n",
       "      <th>50%</th>\n",
       "      <td>6.185000</td>\n",
       "      <td>11.650000</td>\n",
       "      <td>19.100000</td>\n",
       "    </tr>\n",
       "    <tr>\n",
       "      <th>75%</th>\n",
       "      <td>6.591500</td>\n",
       "      <td>16.950000</td>\n",
       "      <td>20.200000</td>\n",
       "    </tr>\n",
       "    <tr>\n",
       "      <th>max</th>\n",
       "      <td>8.337000</td>\n",
       "      <td>37.970000</td>\n",
       "      <td>22.000000</td>\n",
       "    </tr>\n",
       "  </tbody>\n",
       "</table>\n",
       "</div>"
      ],
      "text/plain": [
       "               RM       LSTAT     PTRATIO\n",
       "count  391.000000  391.000000  391.000000\n",
       "mean     6.252141   12.780077   18.543478\n",
       "std      0.620402    6.942496    2.065045\n",
       "min      3.863000    1.980000   12.600000\n",
       "25%      5.882000    7.390000   17.400000\n",
       "50%      6.185000   11.650000   19.100000\n",
       "75%      6.591500   16.950000   20.200000\n",
       "max      8.337000   37.970000   22.000000"
      ]
     },
     "execution_count": 16,
     "metadata": {},
     "output_type": "execute_result"
    }
   ],
   "source": [
    "X_train.describe()"
   ]
  },
  {
   "cell_type": "code",
   "execution_count": 17,
   "metadata": {},
   "outputs": [
    {
     "data": {
      "text/plain": [
       "count    3.910000e+02\n",
       "mean     4.560813e+05\n",
       "std      1.607188e+05\n",
       "min      1.050000e+05\n",
       "25%      3.612000e+05\n",
       "50%      4.410000e+05\n",
       "75%      5.145000e+05\n",
       "max      1.018500e+06\n",
       "Name: MEDV, dtype: float64"
      ]
     },
     "execution_count": 17,
     "metadata": {},
     "output_type": "execute_result"
    }
   ],
   "source": [
    "y_train.describe()"
   ]
  },
  {
   "cell_type": "code",
   "execution_count": 18,
   "metadata": {},
   "outputs": [
    {
     "data": {
      "image/png": "[encoded data removed]",
      "text/plain": [
       "<matplotlib.figure.Figure at 0x27bbf3e8940>"
      ]
     },
     "metadata": {},
     "output_type": "display_data"
    }
   ],
   "source": [
    "# From review\n",
    "for i,price in enumerate(reg.predict(client_data)):\n",
    "    plt.hist(prices, bins = 30)\n",
    "    plt.axvline(price, lw = 3)\n",
    "    plt.text(price-50000, 50, 'Client '+str(i+1), rotation=90)"
   ]
  },
  {
   "cell_type": "markdown",
   "metadata": {},
   "source": [
    "**Answer: **\n",
    "\n",
    "Based on the current model, recommended prices for each client to sell their home is shown above.\n",
    "\n",
    "Based on the data exploration (please refer to the scatter plots of the features with respect to the selling price of the houses) of historic data, \n",
    "* Selling price for Client 1's home is reasonable, compared to the mean values of the features and price of houses. Mean value of features in the training data are close to the feature values of Client 1's home. Therefore, as expected, the selling price of the home is also close to the mean value of all the prices in the training data.\n",
    "* Selling price for Client 2's home is affected by the high neighborhood poverty level. Also, it has less rooms and a high student-teacher ratio of nearby schools, making the prediction reasonable.\n",
    "* Selling price for Client 3's home, which is the biggest house with a low student-teacher ratio and low poverty, is reasonable."
   ]
  },
  {
   "cell_type": "markdown",
   "metadata": {},
   "source": [
    "### Sensitivity\n",
    "An optimal model is not necessarily a robust model. Sometimes, a model is either too complex or too simple to sufficiently generalize to new data. Sometimes, a model could use a learning algorithm that is not appropriate for the structure of the data given. Other times, the data itself could be too noisy or contain too few samples to allow a model to adequately capture the target variable — i.e., the model is underfitted. \n",
    "\n",
    "**Run the code cell below to run the `fit_model` function ten times with different training and testing sets to see how the prediction for a specific client changes with respect to the data it's trained on.**"
   ]
  },
  {
   "cell_type": "code",
   "execution_count": 19,
   "metadata": {},
   "outputs": [
    {
     "name": "stdout",
     "output_type": "stream",
     "text": [
      "Trial 1: $391,183.33\n",
      "Trial 2: $419,700.00\n",
      "Trial 3: $415,800.00\n",
      "Trial 4: $420,622.22\n",
      "Trial 5: $413,334.78\n",
      "Trial 6: $411,931.58\n",
      "Trial 7: $399,663.16\n",
      "Trial 8: $407,232.00\n",
      "Trial 9: $351,577.61\n",
      "Trial 10: $413,700.00\n",
      "\n",
      "Range in prices: $69,044.61\n"
     ]
    }
   ],
   "source": [
    "vs.PredictTrials(features, prices, fit_model, client_data)"
   ]
  },
  {
   "cell_type": "markdown",
   "metadata": {},
   "source": [
    "### Question 11 - Applicability\n",
    "\n",
    "* In a few sentences, discuss whether the constructed model should or should not be used in a real-world setting.  \n",
    "\n",
    "**Hint:** Take a look at the range in prices as calculated in the code snippet above. Some questions to answering:\n",
    "- How relevant today is data that was collected from 1978? How important is inflation?\n",
    "- Are the features present in the data sufficient to describe a home? Do you think factors like quality of apppliances in the home, square feet of the plot area, presence of pool or not etc should factor in?\n",
    "- Is the model robust enough to make consistent predictions?\n",
    "- Would data collected in an urban city like Boston be applicable in a rural city?\n",
    "- Is it fair to judge the price of an individual home based on the characteristics of the entire neighborhood?"
   ]
  },
  {
   "cell_type": "markdown",
   "metadata": {},
   "source": [
    "**Answer: **\n",
    "\n",
    "* **Relevant data** - Raw values of the data collected in 1978 are not useful today (2017). However, these values along with other economic factors like inflation and interest rates may be useful in understanding a long term trend in the pricing of houses.\n",
    "\n",
    "* **Features** - Yes, I think other factors like quality of appliances in the home, square feet of the plot area, presence of pool and gym, economic factors like inflation and interest rates, income of buyer should also be factored in the model.\n",
    "\n",
    "* **Robustness** - Considering the trials, the range of the predicted prices is high, making inconsistent predictions.\n",
    "\n",
    "* **Applicability** - Data collected for an urban city like Boston is not applicable to a rural city, as the factors may behave in different manner.\n",
    "\n",
    "* **Fairness** - I think each neighborhood has certain characteristics that define the area and that is why it is fair to judge a price of an individual house based on the entire neighborhood. However, it should not be the only criteria as there will be different types of houses in the same neighborhood and as such, these factors should also be taken into consideration.\n",
    "\n",
    "The constructed model even though it fits well to the current data, more robust cross-validation strategies must be used to test the stability of the model. Also, other important features should also be taken into consideration while constructing the model. Keeping the robustness of the current model in mind, I would not recommend using it in the real-world setting."
   ]
  },
  {
   "cell_type": "markdown",
   "metadata": {},
   "source": [
    "> **Note**: Once you have completed all of the code implementations and successfully answered each question above, you may finalize your work by exporting the iPython Notebook as an HTML document. You can do this by using the menu above and navigating to  \n",
    "**File -> Download as -> HTML (.html)**. Include the finished document along with this notebook as your submission."
   ]
  }
 ],
 "metadata": {
  "anaconda-cloud": {},
  "kernelspec": {
   "display_name": "Python 3",
   "language": "python",
   "name": "python3"
  },
  "language_info": {
   "codemirror_mode": {
    "name": "ipython",
    "version": 3
   },
   "file_extension": ".py",
   "mimetype": "text/x-python",
   "name": "python",
   "nbconvert_exporter": "python",
   "pygments_lexer": "ipython3",
   "version": "3.5.4"
  },
  "toc": {
   "colors": {
    "hover_highlight": "#DAA520",
    "running_highlight": "#FF0000",
    "selected_highlight": "#FFD700"
   },
   "moveMenuLeft": true,
   "nav_menu": {
    "height": "512px",
    "width": "252px"
   },
   "navigate_menu": true,
   "number_sections": true,
   "sideBar": true,
   "threshold": 4,
   "toc_cell": false,
   "toc_section_display": "block",
   "toc_window_display": false
  }
 },
 "nbformat": 4,
 "nbformat_minor": 1
}
